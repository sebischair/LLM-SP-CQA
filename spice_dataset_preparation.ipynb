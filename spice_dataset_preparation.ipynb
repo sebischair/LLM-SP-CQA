{
 "cells": [
  {
   "cell_type": "markdown",
   "metadata": {},
   "source": [
    "# Spice Dataset Preparation"
   ]
  },
  {
   "cell_type": "code",
   "execution_count": 1,
   "metadata": {},
   "outputs": [],
   "source": [
    "import json\n",
    "from typing import Dict\n",
    "from Models import *\n",
    "from Entity_Resolver import *\n",
    "from Dataset_stats import *\n",
    "from Import import *\n",
    "from Export import *"
   ]
  },
  {
   "cell_type": "markdown",
   "metadata": {},
   "source": [
    "### Resolve Wikidata Entities"
   ]
  },
  {
   "cell_type": "code",
   "execution_count": 5,
   "metadata": {},
   "outputs": [
    {
     "name": "stdout",
     "output_type": "stream",
     "text": [
      "Q81938: pain\n",
      "Q838948: work of art\n"
     ]
    }
   ],
   "source": [
    "entity = 'Q81938' #Q15901648\n",
    "property = 'Q838948'\n",
    "print(f\"{entity}: {retriev_wikidata_entity(entity)}\")\n",
    "print(f\"{property}: {retriev_wikidata_entity(property)}\")"
   ]
  },
  {
   "cell_type": "markdown",
   "metadata": {},
   "source": [
    "### Create Dataframe and Export to csv"
   ]
  },
  {
   "cell_type": "code",
   "execution_count": null,
   "metadata": {},
   "outputs": [],
   "source": [
    "input_folder_path = '../SPICE_dataset/train'\n",
    "output_folder_path = './SPICE_dataset_pp/train'\n",
    "create_spice_csv(input_folder_path, output_folder_path, 25, 25,189, 300)"
   ]
  },
  {
   "cell_type": "code",
   "execution_count": null,
   "metadata": {},
   "outputs": [],
   "source": [
    "input_folder_path = '../SPICE_dataset/test'\n",
    "output_folder_path = './SPICE_dataset_pp/test'\n",
    "create_spice_csv_random(input_folder_path, output_folder_path, 172)"
   ]
  },
  {
   "cell_type": "markdown",
   "metadata": {},
   "source": [
    "## Create Test Set"
   ]
  },
  {
   "cell_type": "code",
   "execution_count": 2,
   "metadata": {},
   "outputs": [],
   "source": [
    "input_path = \"../SPICE_dataset/test\"\n",
    "output_path = \"./SPICE_dataset_pp/test\""
   ]
  },
  {
   "cell_type": "markdown",
   "metadata": {},
   "source": [
    "### Calculate Number of Question Types and Subcategories in Test Set"
   ]
  },
  {
   "cell_type": "code",
   "execution_count": 5,
   "metadata": {},
   "outputs": [
    {
     "name": "stdout",
     "output_type": "stream",
     "text": [
      "{'Clarification': ['Simple Question|Single Entity|Indirect', 'Comparative|Count over More/Less|Single entity type|Indirect', 'Quantitative|Count|Single entity type|Indirect', 'Comparative|More/Less|Mult. entity type|Indirect', 'Quantitative|Count|Logical operators|Indirect', 'Comparative|More/Less|Single entity type|Indirect', 'Comparative|Count over More/Less|Mult. entity type|Indirect'], 'Comparative Reasoning (All)': ['Comparative|More/Less|Single entity type', 'Comparative|More/Less|Single entity type|Incomplete', 'Comparative|More/Less|Mult. entity type', 'Comparative|More/Less|Mult. entity type|Incomplete', 'Comparative|More/Less|Mult. entity type|Indirect', 'Comparative|More/Less|Single entity type|Indirect', ''], 'Comparative Reasoning (Count) (All)': ['', 'Comparative|Count over More/Less|Mult. entity type', 'Comparative|Count over More/Less|Mult. entity type|Incomplete', 'Comparative|Count over More/Less|Single entity type', 'Comparative|Count over More/Less|Mult. entity type|Indirect', 'Comparative|Count over More/Less|Single entity type|Indirect', 'Comparative|Count over More/Less|Single entity type|Incomplete'], 'Logical Reasoning (All)': ['Logical|Union|Single_Relation', 'Logical|Intersection|Multiple_Relation', 'Logical|Union|Multiple_Relation', 'Logical|Difference|Multiple_Relation', 'Logical|Union|Single_Relation|Incomplete', 'Logical|Intersection|Single_Relation', 'Logical|Intersection|Single_Relation|Incomplete', 'Logical|Difference|Single_Relation', 'Logical|Difference|Single_Relation|Incomplete'], 'Quantitative Reasoning (All)': ['Quantitative|Atleast/ Atmost/ Approx. the same/Equal|Mult. entity type', 'Quantitative|Min/Max|Mult. entity type', 'Quantitative|Min/Max|Single entity type', 'Quantitative|Atleast/ Atmost/ Approx. the same/Equal|Single entity type'], 'Quantitative Reasoning (Count) (All)': ['Quantitative|Count|Logical operators', 'Quantitative|Count|Mult. entity type', 'Quantitative|Count over Atleast/ Atmost/ Approx. the same/Equal|Single entity type', 'Quantitative|Count|Logical operators|Indirect', 'Quantitative|Count|Single entity type|Indirect', 'Quantitative|Count over Atleast/ Atmost/ Approx. the same/Equal|Mult. entity type', 'Quantitative|Count|Single entity type', 'Incomplete count-based ques', ''], 'Simple Question (Coreferenced)': ['Simple Question|Single Entity|Indirect', '', 'Simple Question|Mult. Entity'], 'Simple Question (Direct)': ['Simple Question', 'Simple Question|Mult. Entity|Indirect', 'Simple Question|Single Entity'], 'Simple Question (Ellipsis)': ['Incomplete|object parent is changed, subject and predicate remain same', 'only subject is changed, parent and predicate remains same'], 'Verification (Boolean) (All)': ['Verification|one entity, multiple entities (as object) referred indirectly', 'Verification|2 entities, one direct and one indirect, object is indirect', 'Verification|2 entities, both direct', 'Verification|2 entities, one direct and one indirect, subject is indirect', 'Verification|3 entities, 2 direct, 2(direct) are query entities, subject is indirect', 'Verification|3 entities, all direct, 2 are query entities']}\n"
     ]
    }
   ],
   "source": [
    "question_types = list_question_types_with_categories(input_path)\n",
    "print(question_types)"
   ]
  },
  {
   "cell_type": "code",
   "execution_count": 6,
   "metadata": {},
   "outputs": [
    {
     "name": "stdout",
     "output_type": "stream",
     "text": [
      "['Simple Question|Single Entity|Indirect', 'Comparative|Count over More/Less|Single entity type|Indirect', 'Quantitative|Count|Single entity type|Indirect', 'Comparative|More/Less|Mult. entity type|Indirect', 'Quantitative|Count|Logical operators|Indirect', 'Comparative|More/Less|Single entity type|Indirect', 'Comparative|Count over More/Less|Mult. entity type|Indirect', 'Comparative|More/Less|Single entity type', 'Comparative|More/Less|Single entity type|Incomplete', 'Comparative|More/Less|Mult. entity type', 'Comparative|More/Less|Mult. entity type|Incomplete', 'Comparative|More/Less|Mult. entity type|Indirect', 'Comparative|More/Less|Single entity type|Indirect', '', '', 'Comparative|Count over More/Less|Mult. entity type', 'Comparative|Count over More/Less|Mult. entity type|Incomplete', 'Comparative|Count over More/Less|Single entity type', 'Comparative|Count over More/Less|Mult. entity type|Indirect', 'Comparative|Count over More/Less|Single entity type|Indirect', 'Comparative|Count over More/Less|Single entity type|Incomplete', 'Logical|Union|Single_Relation', 'Logical|Intersection|Multiple_Relation', 'Logical|Union|Multiple_Relation', 'Logical|Difference|Multiple_Relation', 'Logical|Union|Single_Relation|Incomplete', 'Logical|Intersection|Single_Relation', 'Logical|Intersection|Single_Relation|Incomplete', 'Logical|Difference|Single_Relation', 'Logical|Difference|Single_Relation|Incomplete', 'Quantitative|Atleast/ Atmost/ Approx. the same/Equal|Mult. entity type', 'Quantitative|Min/Max|Mult. entity type', 'Quantitative|Min/Max|Single entity type', 'Quantitative|Atleast/ Atmost/ Approx. the same/Equal|Single entity type', 'Quantitative|Count|Logical operators', 'Quantitative|Count|Mult. entity type', 'Quantitative|Count over Atleast/ Atmost/ Approx. the same/Equal|Single entity type', 'Quantitative|Count|Logical operators|Indirect', 'Quantitative|Count|Single entity type|Indirect', 'Quantitative|Count over Atleast/ Atmost/ Approx. the same/Equal|Mult. entity type', 'Quantitative|Count|Single entity type', 'Incomplete count-based ques', '', 'Simple Question|Single Entity|Indirect', '', 'Simple Question|Mult. Entity', 'Simple Question', 'Simple Question|Mult. Entity|Indirect', 'Simple Question|Single Entity', 'Incomplete|object parent is changed, subject and predicate remain same', 'only subject is changed, parent and predicate remains same', 'Verification|one entity, multiple entities (as object) referred indirectly', 'Verification|2 entities, one direct and one indirect, object is indirect', 'Verification|2 entities, both direct', 'Verification|2 entities, one direct and one indirect, subject is indirect', 'Verification|3 entities, 2 direct, 2(direct) are query entities, subject is indirect', 'Verification|3 entities, all direct, 2 are query entities']\n",
      "Number of question types: 10\n",
      "Number of question (sub)categories: 57\n"
     ]
    }
   ],
   "source": [
    "categories = [question_types[key] for key in question_types]\n",
    "# Change categories to a flat list\n",
    "categories = [item for sublist in categories for item in sublist]\n",
    "print(categories)\n",
    "print(f\"Number of question types: {len(question_types)}\")\n",
    "print(f\"Number of question (sub)categories: {len(categories)}\")"
   ]
  },
  {
   "cell_type": "code",
   "execution_count": 3,
   "metadata": {},
   "outputs": [
    {
     "name": "stdout",
     "output_type": "stream",
     "text": [
      "{'Clarification': 11529, 'Comparative Reasoning (All)': 13966, 'Comparative Reasoning (Count) (All)': 13821, 'Logical Reasoning (All)': 21539, 'Quantitative Reasoning (All)': 8361, 'Quantitative Reasoning (Count) (All)': 22820, 'Simple Question (Coreferenced)': 53568, 'Simple Question (Direct)': 80259, 'Simple Question (Ellipsis)': 9804, 'Verification (Boolean) (All)': 25607}\n"
     ]
    }
   ],
   "source": [
    "question_type_instances = count_instances_of_each_question_type(input_path)\n",
    "print(question_type_instances)"
   ]
  },
  {
   "cell_type": "code",
   "execution_count": 4,
   "metadata": {},
   "outputs": [
    {
     "name": "stdout",
     "output_type": "stream",
     "text": [
      "{'Simple Question (Direct) [Simple Question|Single Entity]': 46530, 'Simple Question (Coreferenced) [Simple Question|Single Entity|Indirect]': 40352, 'Simple Question (Direct) [Simple Question]': 27769, 'Simple Question (Ellipsis) [only subject is changed, parent and predicate remains same]': 8967, 'Logical Reasoning (All) [Logical|Union|Single_Relation]': 8711, 'Clarification [Simple Question|Single Entity|Indirect]': 7323, 'Simple Question (Coreferenced)': 7323, 'Simple Question (Direct) [Simple Question|Mult. Entity|Indirect]': 5960, 'Simple Question (Coreferenced) [Simple Question|Mult. Entity]': 5893, 'Verification (Boolean) (All) [Verification|2 entities, both direct]': 5484, 'Verification (Boolean) (All) [Verification|2 entities, one direct and one indirect, object is indirect]': 5349, 'Logical Reasoning (All) [Logical|Union|Multiple_Relation]': 5087, 'Verification (Boolean) (All) [Verification|one entity, multiple entities (as object) referred indirectly]': 4898, 'Quantitative Reasoning (Count) (All) [Quantitative|Count|Single entity type]': 4301, 'Comparative Reasoning (Count) (All) [Comparative|Count over More/Less|Mult. entity type]': 4216, 'Comparative Reasoning (All) [Comparative|More/Less|Mult. entity type]': 4205, 'Quantitative Reasoning (Count) (All) [Quantitative|Count|Mult. entity type]': 4131, 'Verification (Boolean) (All) [Verification|3 entities, all direct, 2 are query entities]': 4131, 'Logical Reasoning (All) [Logical|Intersection|Multiple_Relation]': 3665, 'Quantitative Reasoning (Count) (All) [Quantitative|Count|Logical operators]': 3567, 'Quantitative Reasoning (All) [Quantitative|Atleast/ Atmost/ Approx. the same/Equal|Mult. entity type]': 3529, 'Quantitative Reasoning (Count) (All) [Quantitative|Count over Atleast/ Atmost/ Approx. the same/Equal|Mult. entity type]': 3494, 'Comparative Reasoning (All) [Comparative|More/Less|Single entity type]': 3203, 'Comparative Reasoning (Count) (All) [Comparative|Count over More/Less|Single entity type]': 3017, 'Verification (Boolean) (All) [Verification|2 entities, one direct and one indirect, subject is indirect]': 2916, 'Comparative Reasoning (Count) (All) [Comparative|Count over More/Less|Mult. entity type|Incomplete]': 2909, 'Comparative Reasoning (All) [Comparative|More/Less|Mult. entity type|Incomplete]': 2843, 'Verification (Boolean) (All) [Verification|3 entities, 2 direct, 2(direct) are query entities, subject is indirect]': 2829, 'Quantitative Reasoning (All) [Quantitative|Min/Max|Mult. entity type]': 2560, 'Quantitative Reasoning (Count) (All)': 2144, 'Quantitative Reasoning (All) [Quantitative|Atleast/ Atmost/ Approx. the same/Equal|Single entity type]': 1956, 'Quantitative Reasoning (Count) (All) [Quantitative|Count over Atleast/ Atmost/ Approx. the same/Equal|Single entity type]': 1937, 'Logical Reasoning (All) [Logical|Intersection|Single_Relation]': 1798, 'Comparative Reasoning (All) [Comparative|More/Less|Single entity type|Incomplete]': 1755, 'Comparative Reasoning (Count) (All) [Comparative|Count over More/Less|Single entity type|Incomplete]': 1721, 'Quantitative Reasoning (Count) (All) [Quantitative|Count|Single entity type|Indirect]': 1256, 'Logical Reasoning (All) [Logical|Union|Single_Relation|Incomplete]': 1247, 'Clarification [Quantitative|Count|Single entity type|Indirect]': 1195, 'Comparative Reasoning (Count) (All)': 1041, 'Comparative Reasoning (All)': 1021, 'Quantitative Reasoning (Count) (All) [Quantitative|Count|Logical operators|Indirect]': 1019, 'Quantitative Reasoning (Count) (All) [Incomplete count-based ques]': 971, 'Clarification [Quantitative|Count|Logical operators|Indirect]': 949, 'Simple Question (Ellipsis) [Incomplete|object parent is changed, subject and predicate remain same]': 837, 'Clarification [Comparative|Count over More/Less|Mult. entity type|Indirect]': 589, 'Clarification [Comparative|More/Less|Mult. entity type|Indirect]': 587, 'Comparative Reasoning (All) [Comparative|More/Less|Mult. entity type|Indirect]': 530, 'Comparative Reasoning (Count) (All) [Comparative|Count over More/Less|Mult. entity type|Indirect]': 513, 'Clarification [Comparative|Count over More/Less|Single entity type|Indirect]': 452, 'Clarification [Comparative|More/Less|Single entity type|Indirect]': 434, 'Comparative Reasoning (All) [Comparative|More/Less|Single entity type|Indirect]': 409, 'Logical Reasoning (All) [Logical|Difference|Multiple_Relation]': 405, 'Comparative Reasoning (Count) (All) [Comparative|Count over More/Less|Single entity type|Indirect]': 404, 'Logical Reasoning (All) [Logical|Intersection|Single_Relation|Incomplete]': 399, 'Quantitative Reasoning (All) [Quantitative|Min/Max|Single entity type]': 316, 'Logical Reasoning (All) [Logical|Difference|Single_Relation]': 219, 'Logical Reasoning (All) [Logical|Difference|Single_Relation|Incomplete]': 8}\n"
     ]
    }
   ],
   "source": [
    "question_subtype_instances = count_instances_of_question_subtypes(input_path)\n",
    "print(question_subtype_instances)"
   ]
  },
  {
   "cell_type": "code",
   "execution_count": 5,
   "metadata": {},
   "outputs": [
    {
     "name": "stdout",
     "output_type": "stream",
     "text": [
      "{'Clarification': 4.4126, 'Comparative Reasoning (All)': 5.3453, 'Comparative Reasoning (Count) (All)': 5.2898, 'Logical Reasoning (All)': 8.2438, 'Quantitative Reasoning (All)': 3.2001, 'Quantitative Reasoning (Count) (All)': 8.7341, 'Simple Question (Coreferenced)': 20.5026, 'Simple Question (Direct)': 30.7183, 'Simple Question (Ellipsis)': 3.7524, 'Verification (Boolean) (All)': 9.8008}\n",
      " => 99.99979999999998\n"
     ]
    }
   ],
   "source": [
    "question_type_percentages = calculate_percentage_for_each_question_type(question_type_instances, sort_key=lambda item: item[0])\n",
    "print(question_type_percentages)\n",
    "\n",
    "# Check rounding errors\n",
    "print(f\" => {sum(question_type_percentages.values())}\")"
   ]
  },
  {
   "cell_type": "code",
   "execution_count": 6,
   "metadata": {},
   "outputs": [
    {
     "name": "stdout",
     "output_type": "stream",
     "text": [
      "{'Logical Reasoning (All) [Logical|Difference|Single_Relation|Incomplete]': 0.0031, 'Logical Reasoning (All) [Logical|Difference|Single_Relation]': 0.0838, 'Quantitative Reasoning (All) [Quantitative|Min/Max|Single entity type]': 0.1209, 'Logical Reasoning (All) [Logical|Intersection|Single_Relation|Incomplete]': 0.1527, 'Comparative Reasoning (Count) (All) [Comparative|Count over More/Less|Single entity type|Indirect]': 0.1546, 'Logical Reasoning (All) [Logical|Difference|Multiple_Relation]': 0.155, 'Comparative Reasoning (All) [Comparative|More/Less|Single entity type|Indirect]': 0.1565, 'Clarification [Comparative|More/Less|Single entity type|Indirect]': 0.1661, 'Clarification [Comparative|Count over More/Less|Single entity type|Indirect]': 0.173, 'Comparative Reasoning (Count) (All) [Comparative|Count over More/Less|Mult. entity type|Indirect]': 0.1963, 'Comparative Reasoning (All) [Comparative|More/Less|Mult. entity type|Indirect]': 0.2029, 'Clarification [Comparative|More/Less|Mult. entity type|Indirect]': 0.2247, 'Clarification [Comparative|Count over More/Less|Mult. entity type|Indirect]': 0.2254, 'Simple Question (Ellipsis) [Incomplete|object parent is changed, subject and predicate remain same]': 0.3204, 'Clarification [Quantitative|Count|Logical operators|Indirect]': 0.3632, 'Quantitative Reasoning (Count) (All) [Incomplete count-based ques]': 0.3716, 'Quantitative Reasoning (Count) (All) [Quantitative|Count|Logical operators|Indirect]': 0.39, 'Comparative Reasoning (All)': 0.3908, 'Comparative Reasoning (Count) (All)': 0.3984, 'Clarification [Quantitative|Count|Single entity type|Indirect]': 0.4574, 'Logical Reasoning (All) [Logical|Union|Single_Relation|Incomplete]': 0.4773, 'Quantitative Reasoning (Count) (All) [Quantitative|Count|Single entity type|Indirect]': 0.4807, 'Comparative Reasoning (Count) (All) [Comparative|Count over More/Less|Single entity type|Incomplete]': 0.6587, 'Comparative Reasoning (All) [Comparative|More/Less|Single entity type|Incomplete]': 0.6717, 'Logical Reasoning (All) [Logical|Intersection|Single_Relation]': 0.6882, 'Quantitative Reasoning (Count) (All) [Quantitative|Count over Atleast/ Atmost/ Approx. the same/Equal|Single entity type]': 0.7414, 'Quantitative Reasoning (All) [Quantitative|Atleast/ Atmost/ Approx. the same/Equal|Single entity type]': 0.7486, 'Quantitative Reasoning (Count) (All)': 0.8206, 'Quantitative Reasoning (All) [Quantitative|Min/Max|Mult. entity type]': 0.9798, 'Verification (Boolean) (All) [Verification|3 entities, 2 direct, 2(direct) are query entities, subject is indirect]': 1.0828, 'Comparative Reasoning (All) [Comparative|More/Less|Mult. entity type|Incomplete]': 1.0881, 'Comparative Reasoning (Count) (All) [Comparative|Count over More/Less|Mult. entity type|Incomplete]': 1.1134, 'Verification (Boolean) (All) [Verification|2 entities, one direct and one indirect, subject is indirect]': 1.1161, 'Comparative Reasoning (Count) (All) [Comparative|Count over More/Less|Single entity type]': 1.1547, 'Comparative Reasoning (All) [Comparative|More/Less|Single entity type]': 1.2259, 'Quantitative Reasoning (Count) (All) [Quantitative|Count over Atleast/ Atmost/ Approx. the same/Equal|Mult. entity type]': 1.3373, 'Quantitative Reasoning (All) [Quantitative|Atleast/ Atmost/ Approx. the same/Equal|Mult. entity type]': 1.3507, 'Quantitative Reasoning (Count) (All) [Quantitative|Count|Logical operators]': 1.3652, 'Logical Reasoning (All) [Logical|Intersection|Multiple_Relation]': 1.4027, 'Quantitative Reasoning (Count) (All) [Quantitative|Count|Mult. entity type]': 1.5811, 'Verification (Boolean) (All) [Verification|3 entities, all direct, 2 are query entities]': 1.5811, 'Comparative Reasoning (All) [Comparative|More/Less|Mult. entity type]': 1.6094, 'Comparative Reasoning (Count) (All) [Comparative|Count over More/Less|Mult. entity type]': 1.6136, 'Quantitative Reasoning (Count) (All) [Quantitative|Count|Single entity type]': 1.6462, 'Verification (Boolean) (All) [Verification|one entity, multiple entities (as object) referred indirectly]': 1.8747, 'Logical Reasoning (All) [Logical|Union|Multiple_Relation]': 1.947, 'Verification (Boolean) (All) [Verification|2 entities, one direct and one indirect, object is indirect]': 2.0473, 'Verification (Boolean) (All) [Verification|2 entities, both direct]': 2.0989, 'Simple Question (Coreferenced) [Simple Question|Mult. Entity]': 2.2555, 'Simple Question (Direct) [Simple Question|Mult. Entity|Indirect]': 2.2811, 'Clarification [Simple Question|Single Entity|Indirect]': 2.8028, 'Simple Question (Coreferenced)': 2.8028, 'Logical Reasoning (All) [Logical|Union|Single_Relation]': 3.334, 'Simple Question (Ellipsis) [only subject is changed, parent and predicate remains same]': 3.432, 'Simple Question (Direct) [Simple Question]': 10.6283, 'Simple Question (Coreferenced) [Simple Question|Single Entity|Indirect]': 15.4443, 'Simple Question (Direct) [Simple Question|Single Entity]': 17.8089}\n",
      " => 99.99969999999999\n"
     ]
    }
   ],
   "source": [
    "question_subtype_percentages = calculate_percentage_for_each_question_type(question_subtype_instances, sort_key=lambda item: item[1], sort_reverse=False)\n",
    "print(question_subtype_percentages)\n",
    "\n",
    "# Check rounding errors\n",
    "print(f\" => {sum(question_subtype_percentages.values())}\")"
   ]
  },
  {
   "cell_type": "markdown",
   "metadata": {},
   "source": [
    "### Calculate Required Number of Question Types and Subcategories for Test Subset"
   ]
  },
  {
   "cell_type": "code",
   "execution_count": 7,
   "metadata": {},
   "outputs": [],
   "source": [
    "# Adapt to your needs\n",
    "sample_size = 1500"
   ]
  },
  {
   "cell_type": "code",
   "execution_count": 8,
   "metadata": {},
   "outputs": [
    {
     "name": "stdout",
     "output_type": "stream",
     "text": [
      "{'Clarification': 66, 'Comparative Reasoning (All)': 80, 'Comparative Reasoning (Count) (All)': 79, 'Logical Reasoning (All)': 124, 'Quantitative Reasoning (All)': 48, 'Quantitative Reasoning (Count) (All)': 131, 'Simple Question (Coreferenced)': 308, 'Simple Question (Direct)': 461, 'Simple Question (Ellipsis)': 56, 'Verification (Boolean) (All)': 147}\n",
      " => 1500\n"
     ]
    }
   ],
   "source": [
    "required_samples_per_id = get_required_samples_for_each_question_type(sample_size, question_type_percentages, sort_key=lambda item: item[0], reverse=False)\n",
    "print(required_samples_per_id)\n",
    "\n",
    "# Check rounding errors\n",
    "print(f\" => {sum(required_samples_per_id.values())}\")"
   ]
  },
  {
   "cell_type": "code",
   "execution_count": 11,
   "metadata": {},
   "outputs": [
    {
     "name": "stdout",
     "output_type": "stream",
     "text": [
      "{'Logical Reasoning (All) [Logical|Difference|Single_Relation|Incomplete]': 0, 'Logical Reasoning (All) [Logical|Difference|Single_Relation]': 1, 'Quantitative Reasoning (All) [Quantitative|Min/Max|Single entity type]': 2, 'Logical Reasoning (All) [Logical|Intersection|Single_Relation|Incomplete]': 2, 'Comparative Reasoning (Count) (All) [Comparative|Count over More/Less|Single entity type|Indirect]': 2, 'Logical Reasoning (All) [Logical|Difference|Multiple_Relation]': 2, 'Comparative Reasoning (All) [Comparative|More/Less|Single entity type|Indirect]': 2, 'Clarification [Comparative|More/Less|Single entity type|Indirect]': 3, 'Clarification [Comparative|Count over More/Less|Single entity type|Indirect]': 3, 'Comparative Reasoning (Count) (All) [Comparative|Count over More/Less|Mult. entity type|Indirect]': 3, 'Comparative Reasoning (All) [Comparative|More/Less|Mult. entity type|Indirect]': 3, 'Clarification [Comparative|More/Less|Mult. entity type|Indirect]': 3, 'Clarification [Comparative|Count over More/Less|Mult. entity type|Indirect]': 3, 'Simple Question (Ellipsis) [Incomplete|object parent is changed, subject and predicate remain same]': 5, 'Clarification [Quantitative|Count|Logical operators|Indirect]': 6, 'Quantitative Reasoning (Count) (All) [Incomplete count-based ques]': 6, 'Quantitative Reasoning (Count) (All) [Quantitative|Count|Logical operators|Indirect]': 6, 'Comparative Reasoning (All)': 6, 'Comparative Reasoning (Count) (All)': 6, 'Clarification [Quantitative|Count|Single entity type|Indirect]': 7, 'Logical Reasoning (All) [Logical|Union|Single_Relation|Incomplete]': 7, 'Quantitative Reasoning (Count) (All) [Quantitative|Count|Single entity type|Indirect]': 7, 'Comparative Reasoning (Count) (All) [Comparative|Count over More/Less|Single entity type|Incomplete]': 10, 'Comparative Reasoning (All) [Comparative|More/Less|Single entity type|Incomplete]': 10, 'Logical Reasoning (All) [Logical|Intersection|Single_Relation]': 10, 'Quantitative Reasoning (Count) (All) [Quantitative|Count over Atleast/ Atmost/ Approx. the same/Equal|Single entity type]': 11, 'Quantitative Reasoning (All) [Quantitative|Atleast/ Atmost/ Approx. the same/Equal|Single entity type]': 11, 'Quantitative Reasoning (Count) (All)': 12, 'Quantitative Reasoning (All) [Quantitative|Min/Max|Mult. entity type]': 15, 'Verification (Boolean) (All) [Verification|3 entities, 2 direct, 2(direct) are query entities, subject is indirect]': 16, 'Comparative Reasoning (All) [Comparative|More/Less|Mult. entity type|Incomplete]': 16, 'Comparative Reasoning (Count) (All) [Comparative|Count over More/Less|Mult. entity type|Incomplete]': 17, 'Verification (Boolean) (All) [Verification|2 entities, one direct and one indirect, subject is indirect]': 17, 'Comparative Reasoning (Count) (All) [Comparative|Count over More/Less|Single entity type]': 17, 'Comparative Reasoning (All) [Comparative|More/Less|Single entity type]': 18, 'Quantitative Reasoning (Count) (All) [Quantitative|Count over Atleast/ Atmost/ Approx. the same/Equal|Mult. entity type]': 20, 'Quantitative Reasoning (All) [Quantitative|Atleast/ Atmost/ Approx. the same/Equal|Mult. entity type]': 20, 'Quantitative Reasoning (Count) (All) [Quantitative|Count|Logical operators]': 21, 'Logical Reasoning (All) [Logical|Intersection|Multiple_Relation]': 21, 'Quantitative Reasoning (Count) (All) [Quantitative|Count|Mult. entity type]': 24, 'Verification (Boolean) (All) [Verification|3 entities, all direct, 2 are query entities]': 24, 'Comparative Reasoning (All) [Comparative|More/Less|Mult. entity type]': 24, 'Comparative Reasoning (Count) (All) [Comparative|Count over More/Less|Mult. entity type]': 24, 'Quantitative Reasoning (Count) (All) [Quantitative|Count|Single entity type]': 25, 'Verification (Boolean) (All) [Verification|one entity, multiple entities (as object) referred indirectly]': 28, 'Logical Reasoning (All) [Logical|Union|Multiple_Relation]': 29, 'Verification (Boolean) (All) [Verification|2 entities, one direct and one indirect, object is indirect]': 31, 'Verification (Boolean) (All) [Verification|2 entities, both direct]': 32, 'Simple Question (Coreferenced) [Simple Question|Mult. Entity]': 34, 'Simple Question (Direct) [Simple Question|Mult. Entity|Indirect]': 34, 'Clarification [Simple Question|Single Entity|Indirect]': 42, 'Simple Question (Coreferenced)': 42, 'Logical Reasoning (All) [Logical|Union|Single_Relation]': 50, 'Simple Question (Ellipsis) [only subject is changed, parent and predicate remains same]': 52, 'Simple Question (Direct) [Simple Question]': 159, 'Simple Question (Coreferenced) [Simple Question|Single Entity|Indirect]': 232, 'Simple Question (Direct) [Simple Question|Single Entity]': 267}\n",
      " => 1500\n"
     ]
    }
   ],
   "source": [
    "required_samples_per_question_type = get_required_samples_for_each_question_type(sample_size, question_subtype_percentages, sort_key=lambda item: item[1], reverse=False)\n",
    "print(required_samples_per_question_type)\n",
    "\n",
    "# Check rounding errors\n",
    "print(f\" => {sum(required_samples_per_question_type.values())}\")"
   ]
  },
  {
   "cell_type": "markdown",
   "metadata": {},
   "source": [
    "### Calculate Current Number of Instance per Question Subcategory in Test Subset"
   ]
  },
  {
   "cell_type": "code",
   "execution_count": 10,
   "metadata": {},
   "outputs": [
    {
     "name": "stdout",
     "output_type": "stream",
     "text": [
      "{'Simple Question (Direct) [Simple Question|Single Entity]': 345, 'Simple Question (Coreferenced) [Simple Question|Single Entity|Indirect]': 304, 'Simple Question (Direct) [Simple Question]': 216, 'Simple Question (Ellipsis) [only subject is changed, parent and predicate remains same]': 76, 'Logical Reasoning (All) [Logical|Union|Single_Relation]': 71, 'Clarification [Simple Question|Single Entity|Indirect]': 60, 'Simple Question (Coreferenced)': 60, 'Simple Question (Coreferenced) [Simple Question|Mult. Entity]': 52, 'Simple Question (Direct) [Simple Question|Mult. Entity|Indirect]': 45, 'Comparative Reasoning (All) [Comparative|More/Less|Mult. entity type]': 40, 'Verification (Boolean) (All) [Verification|2 entities, both direct]': 40, 'Verification (Boolean) (All) [Verification|3 entities, all direct, 2 are query entities]': 39, 'Quantitative Reasoning (Count) (All) [Quantitative|Count|Single entity type]': 38, 'Verification (Boolean) (All) [Verification|2 entities, one direct and one indirect, object is indirect]': 38, 'Quantitative Reasoning (Count) (All) [Quantitative|Count|Mult. entity type]': 37, 'Quantitative Reasoning (Count) (All) [Quantitative|Count over Atleast/ Atmost/ Approx. the same/Equal|Mult. entity type]': 35, 'Logical Reasoning (All) [Logical|Union|Multiple_Relation]': 35, 'Verification (Boolean) (All) [Verification|one entity, multiple entities (as object) referred indirectly]': 30, 'Comparative Reasoning (All)': 30, 'Comparative Reasoning (Count) (All) [Comparative|Count over More/Less|Mult. entity type]': 30, 'Comparative Reasoning (All) [Comparative|More/Less|Single entity type]': 30, 'Quantitative Reasoning (All) [Quantitative|Atleast/ Atmost/ Approx. the same/Equal|Mult. entity type]': 29, 'Comparative Reasoning (All) [Comparative|More/Less|Mult. entity type|Incomplete]': 28, 'Quantitative Reasoning (All) [Quantitative|Min/Max|Mult. entity type]': 26, 'Quantitative Reasoning (Count) (All) [Quantitative|Count|Logical operators]': 25, 'Clarification [Comparative|More/Less|Mult. entity type|Indirect]': 24, 'Comparative Reasoning (Count) (All) [Comparative|Count over More/Less|Mult. entity type|Incomplete]': 24, 'Logical Reasoning (All) [Logical|Intersection|Multiple_Relation]': 23, 'Verification (Boolean) (All) [Verification|2 entities, one direct and one indirect, subject is indirect]': 23, 'Comparative Reasoning (Count) (All) [Comparative|Count over More/Less|Single entity type]': 23, 'Verification (Boolean) (All) [Verification|3 entities, 2 direct, 2(direct) are query entities, subject is indirect]': 20, 'Quantitative Reasoning (Count) (All)': 19, 'Quantitative Reasoning (Count) (All) [Quantitative|Count over Atleast/ Atmost/ Approx. the same/Equal|Single entity type]': 18, 'Comparative Reasoning (All) [Comparative|More/Less|Single entity type|Incomplete]': 18, 'Logical Reasoning (All) [Logical|Intersection|Single_Relation]': 17, 'Quantitative Reasoning (Count) (All) [Incomplete count-based ques]': 14, 'Logical Reasoning (All) [Logical|Union|Single_Relation|Incomplete]': 14, 'Simple Question (Ellipsis) [Incomplete|object parent is changed, subject and predicate remain same]': 13, 'Comparative Reasoning (Count) (All)': 12, 'Clarification [Quantitative|Count|Single entity type|Indirect]': 12, 'Quantitative Reasoning (All) [Quantitative|Atleast/ Atmost/ Approx. the same/Equal|Single entity type]': 12, 'Comparative Reasoning (Count) (All) [Comparative|Count over More/Less|Single entity type|Incomplete]': 12, 'Quantitative Reasoning (Count) (All) [Quantitative|Count|Single entity type|Indirect]': 10, 'Quantitative Reasoning (Count) (All) [Quantitative|Count|Logical operators|Indirect]': 8, 'Clarification [Comparative|Count over More/Less|Mult. entity type|Indirect]': 7, 'Clarification [Quantitative|Count|Logical operators|Indirect]': 7, 'Clarification [Comparative|More/Less|Single entity type|Indirect]': 6, 'Clarification [Comparative|Count over More/Less|Single entity type|Indirect]': 5, 'Comparative Reasoning (Count) (All) [Comparative|Count over More/Less|Single entity type|Indirect]': 5, 'Comparative Reasoning (All) [Comparative|More/Less|Mult. entity type|Indirect]': 4, 'Logical Reasoning (All) [Logical|Difference|Multiple_Relation]': 4, 'Logical Reasoning (All) [Logical|Difference|Single_Relation]': 4, 'Comparative Reasoning (All) [Comparative|More/Less|Single entity type|Indirect]': 4, 'Comparative Reasoning (Count) (All) [Comparative|Count over More/Less|Mult. entity type|Indirect]': 3, 'Logical Reasoning (All) [Logical|Intersection|Single_Relation|Incomplete]': 3, 'Quantitative Reasoning (All) [Quantitative|Min/Max|Single entity type]': 2}\n"
     ]
    }
   ],
   "source": [
    "question_subtype_instances_pp = count_instances_of_question_subtypes_csv(output_path, sort_key=lambda item: item[1], reverse=True)\n",
    "print(question_subtype_instances_pp)"
   ]
  },
  {
   "cell_type": "code",
   "execution_count": 16,
   "metadata": {},
   "outputs": [
    {
     "name": "stdout",
     "output_type": "stream",
     "text": [
      "Number of categories with missing samples: 0\n",
      "Total number of missing instances: 0\n",
      "{'Logical Reasoning (All) [Logical|Difference|Single_Relation|Incomplete]': 0, 'Quantitative Reasoning (All) [Quantitative|Min/Max|Single entity type]': 0, 'Comparative Reasoning (Count) (All) [Comparative|Count over More/Less|Mult. entity type|Indirect]': 0, 'Logical Reasoning (All) [Logical|Intersection|Single_Relation|Incomplete]': 0, 'Comparative Reasoning (All) [Comparative|More/Less|Mult. entity type|Indirect]': 0, 'Clarification [Quantitative|Count|Logical operators|Indirect]': 0, 'Quantitative Reasoning (All) [Quantitative|Atleast/ Atmost/ Approx. the same/Equal|Single entity type]': 0, 'Logical Reasoning (All) [Logical|Difference|Multiple_Relation]': 0, 'Comparative Reasoning (All) [Comparative|More/Less|Single entity type|Indirect]': 0, 'Clarification [Comparative|Count over More/Less|Single entity type|Indirect]': 0, 'Quantitative Reasoning (Count) (All) [Quantitative|Count|Logical operators|Indirect]': 0, 'Comparative Reasoning (Count) (All) [Comparative|Count over More/Less|Single entity type|Incomplete]': 0, 'Logical Reasoning (All) [Logical|Intersection|Multiple_Relation]': 0, 'Verification (Boolean) (All) [Verification|one entity, multiple entities (as object) referred indirectly]': 0, 'Logical Reasoning (All) [Logical|Difference|Single_Relation]': 0, 'Comparative Reasoning (Count) (All) [Comparative|Count over More/Less|Single entity type|Indirect]': 0, 'Clarification [Comparative|More/Less|Single entity type|Indirect]': 0, 'Quantitative Reasoning (Count) (All) [Quantitative|Count|Single entity type|Indirect]': 0, 'Clarification [Comparative|Count over More/Less|Mult. entity type|Indirect]': 0, 'Verification (Boolean) (All) [Verification|3 entities, 2 direct, 2(direct) are query entities, subject is indirect]': 0, 'Quantitative Reasoning (Count) (All) [Quantitative|Count|Logical operators]': 0, 'Clarification [Quantitative|Count|Single entity type|Indirect]': 0, 'Comparative Reasoning (Count) (All)': 0, 'Verification (Boolean) (All) [Verification|2 entities, one direct and one indirect, subject is indirect]': 0, 'Comparative Reasoning (Count) (All) [Comparative|Count over More/Less|Single entity type]': 0, 'Comparative Reasoning (Count) (All) [Comparative|Count over More/Less|Mult. entity type]': 0, 'Logical Reasoning (All) [Logical|Union|Multiple_Relation]': 0, 'Logical Reasoning (All) [Logical|Union|Single_Relation|Incomplete]': 0, 'Logical Reasoning (All) [Logical|Intersection|Single_Relation]': 0, 'Quantitative Reasoning (Count) (All) [Quantitative|Count over Atleast/ Atmost/ Approx. the same/Equal|Single entity type]': 0, 'Quantitative Reasoning (Count) (All)': 0, 'Comparative Reasoning (Count) (All) [Comparative|Count over More/Less|Mult. entity type|Incomplete]': 0, 'Verification (Boolean) (All) [Verification|2 entities, one direct and one indirect, object is indirect]': 0, 'Simple Question (Ellipsis) [Incomplete|object parent is changed, subject and predicate remain same]': 0, 'Quantitative Reasoning (Count) (All) [Incomplete count-based ques]': 0, 'Comparative Reasoning (All) [Comparative|More/Less|Single entity type|Incomplete]': 0, 'Verification (Boolean) (All) [Verification|2 entities, both direct]': 0, 'Quantitative Reasoning (All) [Quantitative|Atleast/ Atmost/ Approx. the same/Equal|Mult. entity type]': 0, 'Quantitative Reasoning (All) [Quantitative|Min/Max|Mult. entity type]': 0, 'Simple Question (Direct) [Simple Question|Mult. Entity|Indirect]': 0, 'Comparative Reasoning (All) [Comparative|More/Less|Mult. entity type|Incomplete]': 0, 'Comparative Reasoning (All) [Comparative|More/Less|Single entity type]': 0, 'Quantitative Reasoning (Count) (All) [Quantitative|Count|Mult. entity type]': 0, 'Quantitative Reasoning (Count) (All) [Quantitative|Count|Single entity type]': 0, 'Quantitative Reasoning (Count) (All) [Quantitative|Count over Atleast/ Atmost/ Approx. the same/Equal|Mult. entity type]': 0, 'Verification (Boolean) (All) [Verification|3 entities, all direct, 2 are query entities]': 0, 'Comparative Reasoning (All) [Comparative|More/Less|Mult. entity type]': 0, 'Simple Question (Coreferenced) [Simple Question|Mult. Entity]': 0, 'Clarification [Simple Question|Single Entity|Indirect]': 0, 'Simple Question (Coreferenced)': 0, 'Clarification [Comparative|More/Less|Mult. entity type|Indirect]': 0, 'Logical Reasoning (All) [Logical|Union|Single_Relation]': 0, 'Comparative Reasoning (All)': 0, 'Simple Question (Ellipsis) [only subject is changed, parent and predicate remains same]': 0, 'Simple Question (Direct) [Simple Question]': 0, 'Simple Question (Coreferenced) [Simple Question|Single Entity|Indirect]': 0, 'Simple Question (Direct) [Simple Question|Single Entity]': 0}\n"
     ]
    }
   ],
   "source": [
    "missing_samples = count_difference_of_required_samples_and_available_samples(required_samples_per_question_type, question_subtype_instances_pp, sort_key=lambda item: item[1], reverse=True)\n",
    "# set missing_samples to 0 if it is negative\n",
    "missing_samples = {key: 0 if missing_samples[key] < 0 else missing_samples[key] for key in missing_samples}\n",
    "\n",
    "print(f\"Number of categories with missing samples: {len([key for key in missing_samples if missing_samples[key] > 0])}\")\n",
    "print(f\"Total number of missing instances: {sum([missing_samples[key] for key in missing_samples])}\")\n",
    "print(missing_samples)"
   ]
  },
  {
   "cell_type": "markdown",
   "metadata": {},
   "source": [
    "### Process missing samples"
   ]
  },
  {
   "cell_type": "code",
   "execution_count": 33,
   "metadata": {},
   "outputs": [],
   "source": [
    "def preprocess_missing_samples(required_samples_per_question_type: Dict[str, int], input_path: str, output_path: str):\n",
    "    ''' Preprocesses the missing samples '''\n",
    "    file_paths = get_file_paths(input_path)\n",
    "    available_samples = count_instances_of_question_subtypes_csv(output_path, sort_key=lambda item: item[1], reverse=False)\n",
    "    missing_samples = count_difference_of_required_samples_and_available_samples(required_samples_per_question_type, available_samples, sort_key=lambda item: item[1], reverse=False, include_sufficient_samples=False)\n",
    "    missing_instances = sum(missing_samples.values())\n",
    "    i = 0\n",
    "\n",
    "    while i < missing_instances:\n",
    "        missing_sample = next(iter(missing_samples))\n",
    "        print(f\"Loop {i}, {missing_sample}\")\n",
    "   \n",
    "        try:\n",
    "            # Select a random file\n",
    "            file_path = random.choice(file_paths)\n",
    "            data_set = json.loads(get_text_from_file(file_path))\n",
    "\n",
    "            # Check if the file is already contained in the output folder\n",
    "            folder = file_path.split('/')[-2]\n",
    "            file = file_path.split('/')[-1]\n",
    "            if os.path.isfile(f\"{output_path}/{folder}/{file.split('.')[0]}.csv\"):\n",
    "                print(\"File already processed\")\n",
    "                continue\n",
    "            question_subtypes_of_file = []\n",
    "            data_set = json.loads(get_text_from_file(file_path))\n",
    "\n",
    "            # Loop through all questions in the file and add extract the question type and description\n",
    "            for j in range(len(data_set)):\n",
    "                question_type = data_set[j].get('question-type', '')\n",
    "                question_description = data_set[j].get('description', '')\n",
    "    \n",
    "                if question_type == '':\n",
    "                    continue\n",
    "                \n",
    "                if question_description != '':\n",
    "                    question_type += f\" [{question_description}]\"\n",
    "                \n",
    "                if question_type not in question_subtypes_of_file:\n",
    "                    question_subtypes_of_file.append(question_type)\n",
    "\n",
    "            # Check if the file contains the missing sample\n",
    "            if missing_sample not in question_subtypes_of_file:\n",
    "                print(f\"{folder}/{file} does not contain missing sample\")\n",
    "                continue\n",
    "\n",
    "            handle_file(input_path, output_path, folder, file)\n",
    "            i += 1\n",
    "        except Exception as e:\n",
    "            print(f\"Error importing file {file} in folder {folder}: {e}\")\n",
    "            continue\n",
    "\n",
    "        # Recalculate available and missing samples\n",
    "        available_samples = count_instances_of_question_subtypes_csv(output_path, sort_key=lambda item: item[1], reverse=False)\n",
    "        missing_samples = count_difference_of_required_samples_and_available_samples(required_samples_per_question_type, available_samples, sort_key=lambda item: item[1], reverse=False, include_sufficient_samples=False)\n",
    "        missing_instances = sum(missing_samples.values())\n",
    "        if missing_instances == 0:\n",
    "            print(\"All missing samples added\")\n",
    "            break\n",
    "\n",
    "preprocess_missing_samples(required_samples_per_question_type, input_path, output_path)"
   ]
  },
  {
   "cell_type": "markdown",
   "metadata": {},
   "source": [
    "#### Fix turnID \n",
    "* It should start at turn 0\n",
    "* Question and answer belong to the same turn\n",
    "* TurnID has form \"train#QA_0#QA_0#0\" -> folder#folder#file#turn"
   ]
  },
  {
   "cell_type": "code",
   "execution_count": null,
   "metadata": {},
   "outputs": [],
   "source": [
    "file_paths = get_file_paths(\"./SPICE_dataset_pp/test\")\n",
    "for file_path in file_paths:\n",
    "    dataframe = pd.read_csv(file_path)\n",
    "    turn = 0\n",
    "    for index, row in dataframe.iterrows():\n",
    "        if index % 2 == 0 and index != 0:\n",
    "            turn += 1\n",
    "        \n",
    "        # Update the turn of the turnId\n",
    "        turnId = row['turnID']\n",
    "        turnId = turnId.rsplit('#', 1)[0]\n",
    "        turnId = turnId + '#' + str(turn)\n",
    "\n",
    "        # Update the turnID\n",
    "        dataframe.at[index, 'turnID'] = turnId\n",
    "\n",
    "    # Save the updated dataframe to the same file\n",
    "    dataframe.to_csv(file_path, index=False)\n",
    "    print(f\"{file_path} is updated\")\n"
   ]
  }
 ],
 "metadata": {
  "kernelspec": {
   "display_name": ".venv",
   "language": "python",
   "name": "python3"
  },
  "language_info": {
   "codemirror_mode": {
    "name": "ipython",
    "version": 3
   },
   "file_extension": ".py",
   "mimetype": "text/x-python",
   "name": "python",
   "nbconvert_exporter": "python",
   "pygments_lexer": "ipython3",
   "version": "3.11.3"
  },
  "orig_nbformat": 4
 },
 "nbformat": 4,
 "nbformat_minor": 2
}
