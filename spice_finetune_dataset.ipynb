{
 "cells": [
  {
   "cell_type": "markdown",
   "metadata": {},
   "source": [
    "# SPICE Fintune Dataset\n",
    "The required structure of the dataset is as follows:\n",
    "```\n",
    "[\n",
    "    {\n",
    "        \"id\": \"identity_0\",\n",
    "        \"conversations\": [\n",
    "            {\n",
    "                \"from\": \"human\",\n",
    "                \"value\": \"...\"\n",
    "            },\n",
    "            {\n",
    "                \"from\": \"gpt\",\n",
    "                \"value\": \"...\"\n",
    "            },\n",
    "            ...\n",
    "        ]\n",
    "    },\n",
    "    ...\n",
    "]\n",
    "```"
   ]
  },
  {
   "cell_type": "markdown",
   "metadata": {},
   "source": [
    "#### Import Dependencies"
   ]
  },
  {
   "cell_type": "code",
   "execution_count": 1,
   "metadata": {},
   "outputs": [],
   "source": [
    "from typing import List\n",
    "import random\n",
    "import os\n",
    "import json\n",
    "import pandas as pd\n",
    "import numpy as np\n",
    "from Prompts import create_conversation_history\n",
    "from Import import get_file_paths"
   ]
  },
  {
   "cell_type": "markdown",
   "metadata": {},
   "source": [
    "#### Create Dataframe from Webnlg Dataset"
   ]
  },
  {
   "cell_type": "code",
   "execution_count": 2,
   "metadata": {},
   "outputs": [],
   "source": [
    "def create_finetune_dataset(base_path: str, conversations: int) -> List[dict]:\n",
    "    finetune_dataset: List[dict] = []\n",
    "    file_paths = get_file_paths(base_path)\n",
    "\n",
    "    for i in range(conversations):\n",
    "        conversation_turns = random.randint(1, 4)\n",
    "        conversations = []\n",
    "        used_files = []\n",
    "\n",
    "        conversation_turn = 0\n",
    "        while conversation_turn < conversation_turns:\n",
    "            # select a random file\n",
    "            file_path = random.choice(file_paths)\n",
    "\n",
    "            # check if the file has already been used\n",
    "            if file_path in used_files:\n",
    "                # select another file\n",
    "                continue\n",
    "\n",
    "            # add the file to the used files\n",
    "            used_files.append(file_path)\n",
    "\n",
    "            # create a dataframe from the file\n",
    "            spice_df = pd.read_csv(file_path)\n",
    "\n",
    "            # select a even random row from the dataframe\n",
    "            df_index = random.randrange(0, len(spice_df), 2)\n",
    "            current_row = spice_df.iloc[df_index]\n",
    "            next_row = spice_df.iloc[df_index + 1]\n",
    "            conversation_history = create_conversation_history(spice_df, df_index)\n",
    "\n",
    "            # check if sparql_query is empty string\n",
    "            if next_row['sparql_query'] is np.nan:\n",
    "                # select another file\n",
    "                continue\n",
    "\n",
    "            conversations.append(\n",
    "                {\n",
    "                  \"from\": \"human\",\n",
    "                  \"value\": f\"\"\"{conversation_history}Input question: {current_row['utterance']}\n",
    "Entities: {current_row['entities_in_utterance']}\n",
    "Relations: {current_row['relations']}\n",
    "Types: {current_row['type_list']}\"\"\"\n",
    "                })\n",
    "            conversations.append(\n",
    "             {\n",
    "                \"from\": \"gpt\",\n",
    "                \"value\": f\"SPARQL query: {next_row['sparql_query']}\"\n",
    "              }\n",
    "            )\n",
    "            \n",
    "            # increment the conversation turn\n",
    "            conversation_turn += 1\n",
    "\n",
    "        finetune_dataset.append({\n",
    "            \"id\": f\"identity_{i}\",\n",
    "            \"conversations\": conversations\n",
    "        })\n",
    "        \n",
    "    return finetune_dataset"
   ]
  },
  {
   "cell_type": "code",
   "execution_count": 3,
   "metadata": {},
   "outputs": [],
   "source": [
    "# Change the path to the preprocessed SPICE dataset folder\n",
    "base_path = \"./SPICE_dataset_pp/train\"\n",
    "# Define the ouput file path\n",
    "output_path = \"./spice_finetune_dataset_chat_30000_v02.json\"\n",
    "# Set the number of conversations to be generated\n",
    "conversations = 30000\n",
    "\n",
    "finetune_dataset = create_finetune_dataset(base_path, conversations)"
   ]
  },
  {
   "cell_type": "markdown",
   "metadata": {},
   "source": [
    "#### Export finetune dataset"
   ]
  },
  {
   "cell_type": "code",
   "execution_count": 4,
   "metadata": {},
   "outputs": [],
   "source": [
    "def export_dataset_to_json_file(dataset: List[dict], file_path: str):\n",
    "    with open(file_path, \"w\") as file:\n",
    "        json.dump(dataset, file, indent=4)"
   ]
  },
  {
   "cell_type": "code",
   "execution_count": 5,
   "metadata": {},
   "outputs": [],
   "source": [
    "\n",
    "export_dataset_to_json_file(finetune_dataset, output_path)"
   ]
  }
 ],
 "metadata": {
  "kernelspec": {
   "display_name": ".venv",
   "language": "python",
   "name": "python3"
  },
  "language_info": {
   "codemirror_mode": {
    "name": "ipython",
    "version": 3
   },
   "file_extension": ".py",
   "mimetype": "text/x-python",
   "name": "python",
   "nbconvert_exporter": "python",
   "pygments_lexer": "ipython3",
   "version": "3.11.3"
  },
  "orig_nbformat": 4
 },
 "nbformat": 4,
 "nbformat_minor": 2
}
